{
 "cells": [
  {
   "cell_type": "code",
   "execution_count": 31,
   "metadata": {},
   "outputs": [],
   "source": [
    "import re\n",
    "tag_name_list = ['Python', 'Django']"
   ]
  },
  {
   "cell_type": "code",
   "execution_count": 32,
   "metadata": {},
   "outputs": [],
   "source": [
    "pattern = re.compile(r'#(\\w+)')\n",
    "tag_name_list = re.findall(pattern, post.content)"
   ]
  },
  {
   "cell_type": "code",
   "execution_count": 33,
   "metadata": {},
   "outputs": [],
   "source": [
    "for tag_name in tag_name_list:\n",
    "    Tag.objects.get_or_create(name='Python')[0]"
   ]
  },
  {
   "cell_type": "code",
   "execution_count": 34,
   "metadata": {},
   "outputs": [
    {
     "data": {
      "text/plain": [
       "<QuerySet []>"
      ]
     },
     "execution_count": 34,
     "metadata": {},
     "output_type": "execute_result"
    }
   ],
   "source": [
    "post.tags.all()"
   ]
  },
  {
   "cell_type": "code",
   "execution_count": 35,
   "metadata": {},
   "outputs": [
    {
     "data": {
      "text/plain": [
       "<QuerySet [<Post: eunbi | 2019-12-23 09:38:27.862135+00:00>, <Post: eunbi | 2020-01-07 09:30:26.396628+00:00>, <Post: eunbi | 2020-01-14 09:00:58.039380+00:00>, <Post: eunbi | 2020-01-14 09:05:01.633676+00:00>, <Post: eunbi | 2020-01-14 09:06:30.459238+00:00>]>"
      ]
     },
     "execution_count": 35,
     "metadata": {},
     "output_type": "execute_result"
    }
   ],
   "source": [
    "Post.objects.all()"
   ]
  },
  {
   "cell_type": "code",
   "execution_count": 36,
   "metadata": {},
   "outputs": [
    {
     "data": {
      "text/plain": [
       "<QuerySet [<Tag: Python>, <Tag: 파이썬>, <Tag: 강다니엘>, <Tag: Django>, <Tag: 집순이>, <Tag: 집>, <Tag: 전기장판>, <Tag: 쉬는시간>]>"
      ]
     },
     "execution_count": 36,
     "metadata": {},
     "output_type": "execute_result"
    }
   ],
   "source": [
    "Tag.objects.all()"
   ]
  },
  {
   "cell_type": "code",
   "execution_count": 38,
   "metadata": {},
   "outputs": [
    {
     "name": "stdout",
     "output_type": "stream",
     "text": [
      "Python: \n",
      "파이썬: \n",
      "강다니엘: \n",
      "Django: \n",
      "집순이: 4\n",
      "집: 4, 5, 6\n",
      "전기장판: 4, 5\n",
      "쉬는시간: 6\n"
     ]
    }
   ],
   "source": [
    "for tag in Tag.objects.all():\n",
    "    result = '{tag}: {posts}'.format(\n",
    "        tag=tag.name,\n",
    "        posts=', '.join([str(post.pk) for post in tag.posts.all()]),\n",
    "    )\n",
    "    print(result)"
   ]
  },
  {
   "cell_type": "code",
   "execution_count": 45,
   "metadata": {},
   "outputs": [
    {
     "data": {
      "text/plain": [
       "<QuerySet [<Post: eunbi | 2020-01-14 09:00:58.039380+00:00>]>"
      ]
     },
     "execution_count": 45,
     "metadata": {},
     "output_type": "execute_result"
    }
   ],
   "source": [
    "# 전기장판 이라는 name을 가진 Tag를 자신의 tags 목록에 갖고 있는 경우인 Post\n",
    "# related_name이 지정되어있다면 사용\n",
    "# related_name이 지정되어있지 않다면, 연결되는 모델의 lowercase문자열\n",
    "\n",
    "Post.objects.filter(tags__name__iexact='집순이')"
   ]
  },
  {
   "cell_type": "code",
   "execution_count": null,
   "metadata": {},
   "outputs": [],
   "source": []
  }
 ],
 "metadata": {
  "kernelspec": {
   "display_name": "Django Shell-Plus",
   "language": "python",
   "name": "django_extensions"
  },
  "language_info": {
   "codemirror_mode": {
    "name": "ipython",
    "version": 3
   },
   "file_extension": ".py",
   "mimetype": "text/x-python",
   "name": "python",
   "nbconvert_exporter": "python",
   "pygments_lexer": "ipython3",
   "version": "3.7.5"
  }
 },
 "nbformat": 4,
 "nbformat_minor": 2
}
